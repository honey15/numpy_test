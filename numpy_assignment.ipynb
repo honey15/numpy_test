{
  "nbformat": 4,
  "nbformat_minor": 0,
  "metadata": {
    "colab": {
      "provenance": [],
      "authorship_tag": "ABX9TyMYUKyY2pn5r9LQmSZI5+J4",
      "include_colab_link": true
    },
    "kernelspec": {
      "name": "python3",
      "display_name": "Python 3"
    },
    "language_info": {
      "name": "python"
    }
  },
  "cells": [
    {
      "cell_type": "markdown",
      "metadata": {
        "id": "view-in-github",
        "colab_type": "text"
      },
      "source": [
        "<a href=\"https://colab.research.google.com/github/honey15/numpy_test/blob/main/numpy_assignment.ipynb\" target=\"_parent\"><img src=\"https://colab.research.google.com/assets/colab-badge.svg\" alt=\"Open In Colab\"/></a>"
      ]
    },
    {
      "cell_type": "code",
      "source": [
        "import numpy as np\n",
        "\n",
        "a=np.random .randint(1, 101, size=(3, 3))"
      ],
      "metadata": {
        "id": "s2M4h3AYBb06"
      },
      "execution_count": 10,
      "outputs": []
    },
    {
      "cell_type": "code",
      "source": [
        "a\n"
      ],
      "metadata": {
        "colab": {
          "base_uri": "https://localhost:8080/"
        },
        "id": "rCdmm4H8D3SS",
        "outputId": "b5027ba5-a57b-4e5c-aab6-fe3b2050a883"
      },
      "execution_count": 8,
      "outputs": [
        {
          "output_type": "execute_result",
          "data": {
            "text/plain": [
              "array([[ 27,  76,  93],\n",
              "       [100,  65,  82],\n",
              "       [ 76,  74,  85]])"
            ]
          },
          "metadata": {},
          "execution_count": 8
        }
      ]
    },
    {
      "cell_type": "code",
      "source": [
        "a.T\n"
      ],
      "metadata": {
        "colab": {
          "base_uri": "https://localhost:8080/"
        },
        "id": "Gt5diS37D8Vn",
        "outputId": "cb6aceca-9b04-432b-cf23-c0a6423c1b8c"
      },
      "execution_count": 11,
      "outputs": [
        {
          "output_type": "execute_result",
          "data": {
            "text/plain": [
              "array([[61, 22, 30],\n",
              "       [51, 92, 64],\n",
              "       [24, 39, 52]])"
            ]
          },
          "metadata": {},
          "execution_count": 11
        }
      ]
    },
    {
      "cell_type": "code",
      "source": [
        "#Generate a 1D NumPy array with 10 elements. Reshape it into a 2x5 array, then into a 5x2 array.\n",
        "\n",
        "tenelement= np.random.randint(1, 101, size=10)\n",
        "tenelement\n",
        "\n"
      ],
      "metadata": {
        "colab": {
          "base_uri": "https://localhost:8080/"
        },
        "id": "VWmKs-haEK9t",
        "outputId": "b4dfb54e-d872-4c04-cb4f-e654fba40c36"
      },
      "execution_count": 21,
      "outputs": [
        {
          "output_type": "execute_result",
          "data": {
            "text/plain": [
              "array([ 48,  66,  64,  88,  86,  24,  39, 100,  37,  56])"
            ]
          },
          "metadata": {},
          "execution_count": 21
        }
      ]
    },
    {
      "cell_type": "code",
      "source": [
        "tenelement.reshape(2,5)\n",
        "\n"
      ],
      "metadata": {
        "colab": {
          "base_uri": "https://localhost:8080/"
        },
        "id": "bHmjoCR2ENs8",
        "outputId": "c51af88f-d2c4-4189-b2a9-bf5f25e5a089"
      },
      "execution_count": 23,
      "outputs": [
        {
          "output_type": "execute_result",
          "data": {
            "text/plain": [
              "array([[ 48,  66,  64,  88,  86],\n",
              "       [ 24,  39, 100,  37,  56]])"
            ]
          },
          "metadata": {},
          "execution_count": 23
        }
      ]
    },
    {
      "cell_type": "code",
      "source": [
        "tenelement.reshape(5,2)\n",
        "\n"
      ],
      "metadata": {
        "colab": {
          "base_uri": "https://localhost:8080/"
        },
        "id": "z4aVkpncFcUd",
        "outputId": "2dda390c-2b27-4a9f-a20d-e96d82f23250"
      },
      "execution_count": 25,
      "outputs": [
        {
          "output_type": "execute_result",
          "data": {
            "text/plain": [
              "array([[ 48,  66],\n",
              "       [ 64,  88],\n",
              "       [ 86,  24],\n",
              "       [ 39, 100],\n",
              "       [ 37,  56]])"
            ]
          },
          "metadata": {},
          "execution_count": 25
        }
      ]
    },
    {
      "cell_type": "code",
      "source": [
        "#Using NumPy, create an array of integers from 10 to 60 with a step of 5.\n",
        "\n",
        "np.arange(10, 61, 5)\n"
      ],
      "metadata": {
        "colab": {
          "base_uri": "https://localhost:8080/"
        },
        "id": "0Lv0FfvUFhR-",
        "outputId": "582a0dfb-9e5a-4c0d-ab89-5da28fa84d96"
      },
      "execution_count": 27,
      "outputs": [
        {
          "output_type": "execute_result",
          "data": {
            "text/plain": [
              "array([10, 15, 20, 25, 30, 35, 40, 45, 50, 55, 60])"
            ]
          },
          "metadata": {},
          "execution_count": 27
        }
      ]
    },
    {
      "cell_type": "code",
      "source": [
        "from re import S\n",
        "#Create a NumPy array of strings ['python', 'numpy', 'pandas']. Apply different case transformations (uppercase, lowercase, title case, etc.) to each element\n",
        "\n",
        "s=np.array(['Python', 'numpy', 'pandas'])\n",
        "s\n",
        "\n",
        "\n"
      ],
      "metadata": {
        "colab": {
          "base_uri": "https://localhost:8080/"
        },
        "id": "CS5prY7HGIqg",
        "outputId": "c69ffc23-1efe-466f-b148-e3d9dd33dc67"
      },
      "execution_count": 39,
      "outputs": [
        {
          "output_type": "execute_result",
          "data": {
            "text/plain": [
              "array(['Python', 'numpy', 'pandas'], dtype='<U6')"
            ]
          },
          "metadata": {},
          "execution_count": 39
        }
      ]
    },
    {
      "cell_type": "code",
      "source": [
        "np.char.upper(s)\n"
      ],
      "metadata": {
        "colab": {
          "base_uri": "https://localhost:8080/"
        },
        "id": "u9kUyEkvGYUp",
        "outputId": "fbaa76f1-b59e-4605-d625-2022766e991a"
      },
      "execution_count": 44,
      "outputs": [
        {
          "output_type": "execute_result",
          "data": {
            "text/plain": [
              "array(['PYTHON', 'NUMPY', 'PANDAS'], dtype='<U6')"
            ]
          },
          "metadata": {},
          "execution_count": 44
        }
      ]
    },
    {
      "cell_type": "code",
      "source": [
        "np.char.lower(s)"
      ],
      "metadata": {
        "colab": {
          "base_uri": "https://localhost:8080/"
        },
        "id": "9V_vSWwNHzbd",
        "outputId": "e8cb93b0-403a-407d-93d8-ea30f6402b7f"
      },
      "execution_count": 45,
      "outputs": [
        {
          "output_type": "execute_result",
          "data": {
            "text/plain": [
              "array(['python', 'numpy', 'pandas'], dtype='<U6')"
            ]
          },
          "metadata": {},
          "execution_count": 45
        }
      ]
    },
    {
      "cell_type": "code",
      "source": [
        "np.char.title(s)"
      ],
      "metadata": {
        "colab": {
          "base_uri": "https://localhost:8080/"
        },
        "id": "JVC7WUCVH2Du",
        "outputId": "c23fabb9-ca6e-429a-c150-3597471f35b3"
      },
      "execution_count": 46,
      "outputs": [
        {
          "output_type": "execute_result",
          "data": {
            "text/plain": [
              "array(['Python', 'Numpy', 'Pandas'], dtype='<U6')"
            ]
          },
          "metadata": {},
          "execution_count": 46
        }
      ]
    },
    {
      "cell_type": "code",
      "source": [
        "np.char.capitalize(s)\n"
      ],
      "metadata": {
        "colab": {
          "base_uri": "https://localhost:8080/"
        },
        "id": "092bLoamH5Le",
        "outputId": "cadfe2b0-6752-486b-cd81-3540dd1d2219"
      },
      "execution_count": 48,
      "outputs": [
        {
          "output_type": "execute_result",
          "data": {
            "text/plain": [
              "array(['Python', 'Numpy', 'Pandas'], dtype='<U6')"
            ]
          },
          "metadata": {},
          "execution_count": 48
        }
      ]
    },
    {
      "cell_type": "code",
      "source": [
        "#Generate a NumPy array of words. Insert a space between each character of every word in the array.\n",
        "\n",
        "words=np.array(['python', 'numpy', 'pandas'])\n",
        "words"
      ],
      "metadata": {
        "colab": {
          "base_uri": "https://localhost:8080/"
        },
        "id": "ufOGXXikIJ0I",
        "outputId": "1aeafc16-c8ef-4dc3-8580-c8ff4913f618"
      },
      "execution_count": 49,
      "outputs": [
        {
          "output_type": "execute_result",
          "data": {
            "text/plain": [
              "array(['python', 'numpy', 'pandas'], dtype='<U6')"
            ]
          },
          "metadata": {},
          "execution_count": 49
        }
      ]
    },
    {
      "cell_type": "code",
      "source": [
        "Spacing=np.char.join(' ', words)\n",
        "Spacing\n"
      ],
      "metadata": {
        "colab": {
          "base_uri": "https://localhost:8080/"
        },
        "id": "LjEN5_D6IWqv",
        "outputId": "e419b1ba-8f48-4f80-e0cf-1b4c066bb7fe"
      },
      "execution_count": 52,
      "outputs": [
        {
          "output_type": "execute_result",
          "data": {
            "text/plain": [
              "array(['p y t h o n', 'n u m p y', 'p a n d a s'], dtype='<U11')"
            ]
          },
          "metadata": {},
          "execution_count": 52
        }
      ]
    },
    {
      "cell_type": "code",
      "source": [
        "#Create two 2D NumPy arrays and perform element-wise addition, subtraction, multiplication, and division\n",
        "\n",
        "a1=np.random.randint(1,10,size=(3,3))\n",
        "\n",
        "a2=np.random.randint(1,10,size=(3,3))\n"
      ],
      "metadata": {
        "id": "G7pfNk_cI-cp"
      },
      "execution_count": 55,
      "outputs": []
    },
    {
      "cell_type": "code",
      "source": [
        "a1"
      ],
      "metadata": {
        "colab": {
          "base_uri": "https://localhost:8080/"
        },
        "id": "ohhUZDprJNY-",
        "outputId": "f1b0157c-d5c2-431d-99b5-f1cfafee2de9"
      },
      "execution_count": 57,
      "outputs": [
        {
          "output_type": "execute_result",
          "data": {
            "text/plain": [
              "array([[2, 3, 8],\n",
              "       [2, 4, 1],\n",
              "       [8, 7, 2]])"
            ]
          },
          "metadata": {},
          "execution_count": 57
        }
      ]
    },
    {
      "cell_type": "code",
      "source": [
        "a2\n",
        "\n"
      ],
      "metadata": {
        "colab": {
          "base_uri": "https://localhost:8080/"
        },
        "id": "Zd09ZpS8JpIH",
        "outputId": "099e7dc9-7f14-4524-a8b3-6c88e7394c05"
      },
      "execution_count": 59,
      "outputs": [
        {
          "output_type": "execute_result",
          "data": {
            "text/plain": [
              "array([[2, 5, 2],\n",
              "       [3, 7, 5],\n",
              "       [6, 3, 4]])"
            ]
          },
          "metadata": {},
          "execution_count": 59
        }
      ]
    },
    {
      "cell_type": "code",
      "source": [
        "np.add(a1,a2)"
      ],
      "metadata": {
        "colab": {
          "base_uri": "https://localhost:8080/"
        },
        "id": "3QozVi-xJri-",
        "outputId": "3cd18d09-9a00-4add-abe4-4a0df739a0d3"
      },
      "execution_count": 61,
      "outputs": [
        {
          "output_type": "execute_result",
          "data": {
            "text/plain": [
              "array([[ 4,  8, 10],\n",
              "       [ 5, 11,  6],\n",
              "       [14, 10,  6]])"
            ]
          },
          "metadata": {},
          "execution_count": 61
        }
      ]
    },
    {
      "cell_type": "code",
      "source": [
        "#Use NumPy to create a 5x5 identity matrix, then extract its diagonal elements"
      ],
      "metadata": {
        "id": "2xpUzn9kKLOR"
      },
      "execution_count": 62,
      "outputs": []
    },
    {
      "cell_type": "code",
      "source": [
        "matrix=np.eye(5)\n",
        "matrix"
      ],
      "metadata": {
        "colab": {
          "base_uri": "https://localhost:8080/"
        },
        "id": "SMrR7aIkKN0y",
        "outputId": "ac527819-425b-4518-af7d-a67b658598c3"
      },
      "execution_count": 64,
      "outputs": [
        {
          "output_type": "execute_result",
          "data": {
            "text/plain": [
              "array([[1., 0., 0., 0., 0.],\n",
              "       [0., 1., 0., 0., 0.],\n",
              "       [0., 0., 1., 0., 0.],\n",
              "       [0., 0., 0., 1., 0.],\n",
              "       [0., 0., 0., 0., 1.]])"
            ]
          },
          "metadata": {},
          "execution_count": 64
        }
      ]
    },
    {
      "cell_type": "code",
      "source": [
        "matrix[0,0]"
      ],
      "metadata": {
        "colab": {
          "base_uri": "https://localhost:8080/"
        },
        "id": "cAiIAozHLMzF",
        "outputId": "0fba143f-8714-4420-e816-72b538094f58"
      },
      "execution_count": 66,
      "outputs": [
        {
          "output_type": "execute_result",
          "data": {
            "text/plain": [
              "1.0"
            ]
          },
          "metadata": {},
          "execution_count": 66
        }
      ]
    },
    {
      "cell_type": "code",
      "source": [
        "matrix[1,1]"
      ],
      "metadata": {
        "colab": {
          "base_uri": "https://localhost:8080/"
        },
        "id": "aLJ1zfWyLuqn",
        "outputId": "a393c949-b6ee-47ea-e841-274c985d9b66"
      },
      "execution_count": 68,
      "outputs": [
        {
          "output_type": "execute_result",
          "data": {
            "text/plain": [
              "1.0"
            ]
          },
          "metadata": {},
          "execution_count": 68
        }
      ]
    },
    {
      "cell_type": "code",
      "source": [
        "matrix[2,2]"
      ],
      "metadata": {
        "colab": {
          "base_uri": "https://localhost:8080/"
        },
        "id": "z-UqXn4KL3RG",
        "outputId": "7c1da038-2bab-47fe-91d5-6cb55d872912"
      },
      "execution_count": 71,
      "outputs": [
        {
          "output_type": "execute_result",
          "data": {
            "text/plain": [
              "1.0"
            ]
          },
          "metadata": {},
          "execution_count": 71
        }
      ]
    },
    {
      "cell_type": "code",
      "source": [
        "matrix[3,3]"
      ],
      "metadata": {
        "colab": {
          "base_uri": "https://localhost:8080/"
        },
        "id": "kM_MvQFmL8Ti",
        "outputId": "b76062de-a282-46fa-f984-9eeedaf22f40"
      },
      "execution_count": 73,
      "outputs": [
        {
          "output_type": "execute_result",
          "data": {
            "text/plain": [
              "1.0"
            ]
          },
          "metadata": {},
          "execution_count": 73
        }
      ]
    },
    {
      "cell_type": "code",
      "source": [
        "matrix[4,4]"
      ],
      "metadata": {
        "colab": {
          "base_uri": "https://localhost:8080/"
        },
        "id": "sKSsZfjRMDhs",
        "outputId": "c0d7a126-c535-4003-cc2c-62edb98c98a1"
      },
      "execution_count": 74,
      "outputs": [
        {
          "output_type": "execute_result",
          "data": {
            "text/plain": [
              "1.0"
            ]
          },
          "metadata": {},
          "execution_count": 74
        }
      ]
    },
    {
      "cell_type": "code",
      "source": [
        "#using diagonal function\n",
        "m1=matrix.diagonal()\n",
        "m1.astype(int)"
      ],
      "metadata": {
        "colab": {
          "base_uri": "https://localhost:8080/"
        },
        "id": "6-VcCz1lMGwh",
        "outputId": "55af6a24-4039-4541-be27-06e5f4e4b6d5"
      },
      "execution_count": 80,
      "outputs": [
        {
          "output_type": "execute_result",
          "data": {
            "text/plain": [
              "array([1, 1, 1, 1, 1])"
            ]
          },
          "metadata": {},
          "execution_count": 80
        }
      ]
    },
    {
      "cell_type": "code",
      "source": [
        "#Generate a NumPy array of 100 random integers between 0 and 1000. Find and display all prime numbers in  this array.\n",
        "\n",
        "num=np.random.randint(0,1000,size=100)\n",
        "num"
      ],
      "metadata": {
        "colab": {
          "base_uri": "https://localhost:8080/"
        },
        "id": "1nNXP3-zMKgM",
        "outputId": "df7ff2aa-4676-4aa3-e4b0-44c395bd584d"
      },
      "execution_count": 82,
      "outputs": [
        {
          "output_type": "execute_result",
          "data": {
            "text/plain": [
              "array([573, 521, 523, 750, 353, 334,  82, 502, 930,  47, 576, 532, 411,\n",
              "       865, 149, 909, 499, 919, 843, 933, 295, 221, 572, 303, 992, 921,\n",
              "       653, 921, 652, 744, 876, 149, 107, 271, 464, 965, 375, 334, 803,\n",
              "       356, 622, 917, 463, 596, 383,  77, 209, 678, 559, 809, 623, 279,\n",
              "       225, 469, 301, 315, 293, 214, 664, 873, 741, 333, 658, 543, 694,\n",
              "         0, 822, 622, 344, 311, 385, 637, 163, 662, 855, 433, 771, 123,\n",
              "       605, 225, 128, 468, 935, 479, 775, 706, 179, 906, 735,  40, 919,\n",
              "       512, 198, 837, 704, 446, 389, 152, 209, 796])"
            ]
          },
          "metadata": {},
          "execution_count": 82
        }
      ]
    },
    {
      "cell_type": "code",
      "source": [
        "\n",
        "import numpy as np\n",
        "num = np.random.randint(0, 1000, size=100)\n",
        "prime_numbers = []\n",
        "for number in num:\n",
        "  is_prime = True\n",
        "  for i in range(2, int(number**0.5) + 1):\n",
        "    if number % i == 0:\n",
        "      is_prime = False\n",
        "      break\n",
        "  if is_prime:\n",
        "    prime_numbers.append(number)\n",
        "print(prime_numbers)\n"
      ],
      "metadata": {
        "colab": {
          "base_uri": "https://localhost:8080/"
        },
        "id": "VW1Ul4M-NF_V",
        "outputId": "26fa6620-a4fe-41fe-994c-0302b2c1afbe"
      },
      "execution_count": 90,
      "outputs": [
        {
          "output_type": "stream",
          "name": "stdout",
          "text": [
            "[167, 73, 13, 233, 151, 71, 337, 331, 103, 13, 479]\n"
          ]
        }
      ]
    },
    {
      "cell_type": "code",
      "source": [
        "# Create a NumPy array representing daily temperatures for a month. Calculate and display the weekly averages.\n",
        "import numpy as np\n",
        "\n",
        "# Example array with 30 elements\n",
        "temp=np.random.randint(1,30,size=30)"
      ],
      "metadata": {
        "id": "m0yJbemeW0Gs"
      },
      "execution_count": 127,
      "outputs": []
    },
    {
      "cell_type": "code",
      "source": [
        "temp"
      ],
      "metadata": {
        "colab": {
          "base_uri": "https://localhost:8080/"
        },
        "id": "Lwr7V1dMeI6w",
        "outputId": "f678c795-022d-4648-b231-6fd57399f680"
      },
      "execution_count": 129,
      "outputs": [
        {
          "output_type": "execute_result",
          "data": {
            "text/plain": [
              "array([19,  3, 16, 21, 10, 27, 13, 28, 16, 13, 19, 29, 26, 24,  1, 20, 10,\n",
              "       22, 18, 23, 20,  4, 19, 20, 27, 24, 17, 14,  2, 24])"
            ]
          },
          "metadata": {},
          "execution_count": 129
        }
      ]
    },
    {
      "cell_type": "code",
      "source": [
        "tempreshape=temp.reshape(6,5)\n",
        "tempreshape"
      ],
      "metadata": {
        "colab": {
          "base_uri": "https://localhost:8080/"
        },
        "id": "etDaOKFyfRxZ",
        "outputId": "8eddf1b5-d0d5-4e93-a8f9-2e742c1863d9"
      },
      "execution_count": 133,
      "outputs": [
        {
          "output_type": "execute_result",
          "data": {
            "text/plain": [
              "array([[19,  3, 16, 21, 10],\n",
              "       [27, 13, 28, 16, 13],\n",
              "       [19, 29, 26, 24,  1],\n",
              "       [20, 10, 22, 18, 23],\n",
              "       [20,  4, 19, 20, 27],\n",
              "       [24, 17, 14,  2, 24]])"
            ]
          },
          "metadata": {},
          "execution_count": 133
        }
      ]
    },
    {
      "cell_type": "code",
      "source": [
        "tempreshape.mean(axis=1)"
      ],
      "metadata": {
        "colab": {
          "base_uri": "https://localhost:8080/"
        },
        "id": "oG93wIBtgQHn",
        "outputId": "2c421cfb-70b3-4489-eb7b-3ffb5f962448"
      },
      "execution_count": 135,
      "outputs": [
        {
          "output_type": "execute_result",
          "data": {
            "text/plain": [
              "array([13.8, 19.4, 19.8, 18.6, 18. , 16.2])"
            ]
          },
          "metadata": {},
          "execution_count": 135
        }
      ]
    }
  ]
}